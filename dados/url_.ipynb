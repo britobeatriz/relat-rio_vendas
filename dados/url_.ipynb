{
 "cells": [
  {
   "cell_type": "code",
   "execution_count": 393,
   "id": "ef2bd23b",
   "metadata": {},
   "outputs": [],
   "source": [
    "import pandas as pd\n",
    "import re"
   ]
  },
  {
   "cell_type": "code",
   "execution_count": 394,
   "id": "aab026bd",
   "metadata": {},
   "outputs": [],
   "source": [
    "dados = pd.read_csv('produto01.csv')"
   ]
  },
  {
   "cell_type": "code",
   "execution_count": 395,
   "id": "05e971dd",
   "metadata": {},
   "outputs": [],
   "source": [
    "dados.loc[dados['NOME'] == 'Geladeira Duplex', 'Geladeira Duplex'] = 'https://imgs.extra.com.br/1523241684/1xg.jpg'\n",
    "dados.loc[dados['NOME'] == 'Lavadora 11 Kg', 'Lavadora 11 Kg'] = 'https://electrolux.vtexassets.com/arquivos/ids/197172/Lavadora_Les11_Electrolux_Frente.png?v=637072667164000000'\n",
    "dados.loc[dados['NOME'] == 'Grill', 'grill'] = 'https://lenoxx.vteximg.com.br/arquivos/ids/160068-500-500/PSD121-Perspectiva-a--00-.png?v=637982587507270000'\n",
    "dados.loc[dados['NOME'] == 'Micro-Ondas', 'Micro Ondas'] = 'https://www.casasbahia-imagens.com.br/html/conteudo-produto/13/3055512/micro-ondas-consul-branco.png'\n",
    "dados.loc[dados['NOME'] == 'Forno-Micro-Ondas', 'Forno Micro Ondas'] = 'https://lenoxx.vteximg.com.br/arquivos/ids/156480-500-500/PFO305-Perspectiva--00-.png?v=637376137144630000'\n",
    "dados.loc[dados['NOME'] == 'Secadora Vapor', 'Secadora Vapo'] = 'https://imgs.pontofrio.com.br/1531908790/1xg.jpg?imwidth=292'\n",
    "dados.loc[dados['NOME'] == 'Ar Condicionado', 'Ar Condicionado'] = 'https://termoclimaarcondicionado.com.br/wp-content/uploads/sites/9/2022/04/ar-condicionado-elgin-eco-inverter.png'\n",
    "dados.loc[dados['NOME'] == 'Fritadeira', 'Fritadeira'] = 'https://novomundo.vteximg.com.br/arquivos/ids/2221071-500-500/fritadeira-sem-oleo-air-fryer-maxis-32l-1270w-pretoprata-af-33-110v-62285-0.jpg?v=637218851549030000'\n",
    "dados.loc[dados['NOME'] == 'Aspirador', 'Aspirador'] = 'https://www.amoedo.com.br/pub/media/catalog/product/c/s/cse10---hidrolux.png'\n",
    "dados.loc[dados['NOME'] == 'Ventilador', 'Ventilador'] = 'https://dujuca.com/wp-content/uploads/2022/07/ventilador-de-mesa-arno.png'\n",
    "dados.loc[dados['NOME'] == 'Processador de Alimentos', 'Processador de Alimentos'] = 'https://www.extra-imagens.com.br/html/conteudo-produto/73/55013975/imagens/processador_1.png'\n",
    "dados.loc[dados['NOME'] == 'Liquidificador', 'Liquidificador'] = 'https://www.extra-imagens.com.br/html/conteudo-produto/73/55029682/imagens/liquidificador_1_.png'\n",
    "dados.loc[dados['NOME'] == 'Impressora Deskjet', 'Impressora Deskjet'] = 'https://d1x5sfejm3zc3e.cloudfront.net/catalog/product/cache/b3b166914d87ce343d4dc5ec5117b502/7/W/7WQ02A-1_T1594314405.png'\n",
    "dados.loc[dados['NOME'] == 'Sony Experia XA', 'Sony Experia XA'] = 'https://t.ctcdn.com.br/CGoFHjWtpkjFU864zISATEwHF50=/fit-in/400x400/filters:fill(transparent):watermark(wm/prd.png,-32p,center,1,none,15)/i409882.png'\n",
    "dados.loc[dados['NOME'] == 'Morotola Moto G5', 'Morotola Moto G5'] = 'https://t.ctcdn.com.br/IzZCRotj-4MUKzlgf78sW4mVu4A=/fit-in/400x400/filters:format(webp):fill(transparent):watermark(wm/prd.png,-32p,center,1,none,15)/i410016.png'\n",
    "dados.loc[dados['NOME'] == 'LG K10 TV Power', 'LG K10 TV Power'] = 'https://static.wixstatic.com/media/d9c9d9_11f1facc64534e2f82c18687fbb53f88~mv2.png/v1/fit/w_500,h_500,q_90/file.png'\n",
    "dados.loc[dados['NOME'] == 'Notebook Dell 8 GB', 'Notebook Dell 8 GB'] = 'https://www.tecmobile.com.br/wp-content/uploads/2022/03/dell-latitude-3420-1.png'\n",
    "dados.loc[dados['NOME'] == 'Desktop HP 16 GB','Desktop HP 16 GB'] = 'https://d22fxaf9t8d39k.cloudfront.net/51aacfcf81e09efed63a579ee023ac1c477ac961390dcac0d0f39a7f7ed8fa2740357.png'\n",
    "dados.loc[dados['NOME'] == 'Samsung Galaxy 8','Samsung Galaxy 8'] = 'https://www.pngkey.com/png/full/359-3593846_galaxy-note8-8-.png'"
   ]
  },
  {
   "cell_type": "code",
   "execution_count": 396,
   "id": "755fcb73",
   "metadata": {},
   "outputs": [
    {
     "data": {
      "text/plain": [
       "Index(['ID', 'NOME', 'CATEGORIA', 'SEGMENTO', 'MARCA', 'Geladeira Duplex',\n",
       "       'Lavadora 11 Kg', 'grill', 'Micro Ondas', 'Forno Micro Ondas',\n",
       "       'Secadora Vapo', 'Ar Condicionado', 'Fritadeira', 'Aspirador',\n",
       "       'Ventilador', 'Processador de Alimentos', 'Liquidificador',\n",
       "       'Impressora Deskjet', 'Sony Experia XA', 'Morotola Moto G5',\n",
       "       'LG K10 TV Power', 'Notebook Dell 8 GB', 'Desktop HP 16 GB',\n",
       "       'Samsung Galaxy 8'],\n",
       "      dtype='object')"
      ]
     },
     "execution_count": 396,
     "metadata": {},
     "output_type": "execute_result"
    }
   ],
   "source": [
    "dados.columns"
   ]
  },
  {
   "cell_type": "code",
   "execution_count": 397,
   "id": "6cd9a845",
   "metadata": {},
   "outputs": [],
   "source": [
    "dados = dados.astype('str')"
   ]
  },
  {
   "cell_type": "code",
   "execution_count": 398,
   "id": "889f06eb",
   "metadata": {},
   "outputs": [],
   "source": [
    "dados['url_produtos_img'] = dados[['Geladeira Duplex', 'Lavadora 11 Kg', 'grill', 'Micro Ondas',\n",
    "       'Forno Micro Ondas', 'Secadora Vapo', 'Ar Condicionado', 'Fritadeira',\n",
    "       'Aspirador', 'Ventilador', 'Processador de Alimentos', 'Liquidificador',\n",
    "       'Impressora Deskjet', 'Sony Experia XA', 'Morotola Moto G5',\n",
    "       'LG K10 TV Power', 'Notebook Dell 8 GB', 'Desktop HP 16 GB',\n",
    "       'Samsung Galaxy 8']].agg(''.join, axis=1)"
   ]
  },
  {
   "cell_type": "code",
   "execution_count": 399,
   "id": "dca6f08c",
   "metadata": {},
   "outputs": [],
   "source": [
    "dados = dados.drop(columns={'Geladeira Duplex', 'Lavadora 11 Kg', 'grill', 'Micro Ondas',\n",
    "       'Forno Micro Ondas', 'Secadora Vapo', 'Ar Condicionado', 'Fritadeira',\n",
    "       'Aspirador', 'Ventilador', 'Processador de Alimentos', 'Liquidificador',\n",
    "       'Impressora Deskjet', 'Sony Experia XA', 'Morotola Moto G5',\n",
    "       'LG K10 TV Power', 'Notebook Dell 8 GB', 'Desktop HP 16 GB',\n",
    "       'Samsung Galaxy 8'})"
   ]
  },
  {
   "cell_type": "code",
   "execution_count": 400,
   "id": "a3a69001",
   "metadata": {},
   "outputs": [],
   "source": [
    "def remove_caracteres_especiais(text):\n",
    "    caracteres = re.compile('nan')\n",
    "    return caracteres.sub(r'', text)\n",
    "\n",
    "dados['url_produtos_img'] = dados['url_produtos_img'].apply(remove_caracteres_especiais)"
   ]
  },
  {
   "cell_type": "code",
   "execution_count": 401,
   "id": "72e01c55",
   "metadata": {},
   "outputs": [],
   "source": [
    "dados.to_csv('produto.csv', sep = ';',index = False)"
   ]
  }
 ],
 "metadata": {
  "kernelspec": {
   "display_name": "Python 3 (ipykernel)",
   "language": "python",
   "name": "python3"
  },
  "language_info": {
   "codemirror_mode": {
    "name": "ipython",
    "version": 3
   },
   "file_extension": ".py",
   "mimetype": "text/x-python",
   "name": "python",
   "nbconvert_exporter": "python",
   "pygments_lexer": "ipython3",
   "version": "3.9.13"
  }
 },
 "nbformat": 4,
 "nbformat_minor": 5
}
